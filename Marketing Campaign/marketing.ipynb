{
 "cells": [
  {
   "cell_type": "markdown",
   "id": "e2fea672",
   "metadata": {},
   "source": [
    "## **Marketing Campaign Analysis**\n",
    "***"
   ]
  },
  {
   "cell_type": "markdown",
   "id": "0183708c",
   "metadata": {},
   "source": [
    "### **1. Data Overview & Preprocessing**\n",
    "- The dataset is loaded from marketing.csv.\n",
    "- Columns date_served, date_subscribed, and date_canceled were converted to datetime objects for accurate time-based analysis."
   ]
  },
  {
   "cell_type": "code",
   "execution_count": null,
   "id": "0aa0d365",
   "metadata": {},
   "outputs": [],
   "source": [
    "import pandas as pd\n",
    "import numpy as np\n",
    "import matplotlib.pyplot as plt\n",
    "from scipy.stats import ttest_ind\n",
    "\n",
    "marketing = pd.read_csv('marketing.csv')\n",
    "marketing['date_served'] = pd.to_datetime(marketing['date_served'], format='%m/%d/%y')\n",
    "marketing['date_subscribed'] = pd.to_datetime(marketing['date_subscribed'], format='%m/%d/%y')\n",
    "marketing['date_canceled'] = pd.to_datetime(marketing['date_canceled'], format='%m/%d/%y')\n",
    "print(marketing.head())"
   ]
  },
  {
   "cell_type": "markdown",
   "id": "59f4d456",
   "metadata": {},
   "source": [
    "***\n",
    "### **2. User Engagement Analysis**\n",
    "- A daily active users plot was generated to assess marketing reach over time.\n",
    "- Understanding daily fluctuations helps to identify trends and evaluate the consistency of engagement."
   ]
  },
  {
   "cell_type": "code",
   "execution_count": null,
   "id": "44ff696c",
   "metadata": {},
   "outputs": [],
   "source": [
    "daily_users = marketing.groupby(['date_served'])['user_id'].nunique()\n",
    "\n",
    "daily_users.plot()\n",
    "plt.title('Daily users')\n",
    "plt.ylabel('Number of users')\n",
    "plt.xlabel('Date served')\n",
    "plt.ylim(bottom=0)\n",
    "plt.grid(True, axis='y', linestyle='--', alpha=0.7)\n",
    "plt.show()"
   ]
  },
  {
   "cell_type": "markdown",
   "id": "9fc0c269",
   "metadata": {},
   "source": [
    "**Observations:**\n",
    "- User engagement is uneven.\n",
    "- Highest engagement is on 15 Jan - mid of month."
   ]
  },
  {
   "cell_type": "markdown",
   "id": "b46721c4",
   "metadata": {},
   "source": [
    "***\n",
    "### **3. Conversion Rate**\n",
    "**Definition:** Conversion rate is the percentage of users who saw marketing assets and subsequently became subscribers.\n"
   ]
  },
  {
   "cell_type": "code",
   "execution_count": null,
   "id": "74bda00a",
   "metadata": {},
   "outputs": [],
   "source": [
    "total = marketing['user_id'].nunique()\n",
    "subscribers = marketing[marketing['converted']==True]['user_id'].nunique()\n",
    "conversion_rat = subscribers/total\n",
    "print(\"Conversion Rate = \", round(conversion_rat*100, 2), \"%\")"
   ]
  },
  {
   "cell_type": "markdown",
   "id": "8dd444e7",
   "metadata": {},
   "source": [
    "**Observation:**\n",
    "- A low conversion rate indicates ineffective campaign messaging or targeting.\n"
   ]
  },
  {
   "cell_type": "markdown",
   "id": "d1855235",
   "metadata": {},
   "source": [
    "***\n",
    "### **4. Retention Rate**\n",
    "**Definition:** Retention rate is the percentage of converted users who remained engaged after subscribing.\n"
   ]
  },
  {
   "cell_type": "code",
   "execution_count": null,
   "id": "118a44d3",
   "metadata": {},
   "outputs": [],
   "source": [
    "total_subscribers = marketing[marketing[\"converted\"] == True]['user_id'].nunique()\n",
    "retained = marketing[marketing['is_retained'] == True]['user_id'].nunique()\n",
    "retention_rate = retained / total_subscribers\n",
    "print(\"Retention Rate = \",round(retention_rate*100, 2), \"%\")"
   ]
  },
  {
   "cell_type": "markdown",
   "id": "5fb1fae6",
   "metadata": {},
   "source": [
    "**Observation:**\n",
    "- Low retention rates suggests possible issues with user experience."
   ]
  },
  {
   "cell_type": "markdown",
   "id": "ca749481",
   "metadata": {},
   "source": [
    "***\n",
    "### **5. Daily Conversion Rate**</br>\n",
    "To check if the conversion rate varies based on when users saw an ad, the conversion rate for each day is calculated and plotted to identify any trends or patterns over time."
   ]
  },
  {
   "cell_type": "code",
   "execution_count": null,
   "id": "6ed8e085",
   "metadata": {},
   "outputs": [],
   "source": [
    "# Define a function for calculating conversion rate\n",
    "def conversion_rate(dataframe, column_names):\n",
    "    column_conv = dataframe[dataframe['converted']==True].groupby(column_names)['user_id'].nunique()\n",
    "    column_total = dataframe.groupby(column_names)['user_id'].nunique()\n",
    "    conversion_rate = round(column_conv/column_total*100,2)\n",
    "    conversion_rate = conversion_rate.fillna(0)\n",
    "    return conversion_rate\n",
    "\n",
    "daily_conversion_rate = conversion_rate(marketing, 'date_served')\n",
    "\n",
    "daily_conversion_rate.plot()\n",
    "plt.title('Daily conversion rate')\n",
    "plt.ylabel('Conversion rate (%)')\n",
    "plt.xlabel('Date served')\n",
    "plt.grid(True, axis='y', linestyle='--', alpha=0.7)\n",
    "plt.ylim(plt.ylim([0, 100]))\n",
    "plt.show()"
   ]
  },
  {
   "cell_type": "markdown",
   "id": "2c9be2b1",
   "metadata": {},
   "source": [
    "**Observation:**\n",
    "- Conversion rate is high during the mid of the month."
   ]
  },
  {
   "cell_type": "markdown",
   "id": "8be72c07",
   "metadata": {},
   "source": [
    "***\n",
    "### **6. Conversion rates for different languages**"
   ]
  },
  {
   "cell_type": "code",
   "execution_count": null,
   "id": "5abf0880",
   "metadata": {},
   "outputs": [],
   "source": [
    "language_conversion_rate = conversion_rate(marketing,'language_displayed')\n",
    "\n",
    "ax=language_conversion_rate.sort_values().plot(kind='bar')\n",
    "for i, value in enumerate(language_conversion_rate.sort_values()):\n",
    "    ax.text(i, value, f'{value:.2f}', ha='center', va='bottom')\n",
    "plt.xlabel('Language displayed')\n",
    "plt.ylabel('Conversion rate(%)')\n",
    "plt.title('Languages vs Conversion rate')\n",
    "plt.ylim(plt.ylim([0, 100]))\n",
    "plt.grid(True, axis='y',linestyle='--', alpha=0.7)\n",
    "plt.show()"
   ]
  },
  {
   "cell_type": "markdown",
   "id": "822d29b5",
   "metadata": {},
   "source": [
    "***\n",
    "### **7. Marketing channels across age groups** </br>\n",
    "To determine if marketing channels are reaching all age demographics equally or if certain channels are more effective at targeting specific age groups - by visualizing the distribution of users across marketing channels and age groups."
   ]
  },
  {
   "cell_type": "code",
   "execution_count": null,
   "id": "bd9f2a02",
   "metadata": {},
   "outputs": [],
   "source": [
    "channel_age = marketing.groupby(['marketing_channel', 'age_group'])['user_id'].count()\n",
    "channel_age_df = pd.DataFrame(channel_age.unstack(level = 1))\n",
    "\n",
    "channel_age_df.plot(kind = 'bar')\n",
    "plt.title('Marketing channels by age group')\n",
    "plt.xlabel('Age group')\n",
    "plt.ylabel('Number of users')\n",
    "plt.legend(labels = channel_age_df.columns.values, loc = 'upper right')\n",
    "plt.grid(True, linestyle='--', alpha=0.7)\n",
    "plt.show()"
   ]
  },
  {
   "cell_type": "markdown",
   "id": "df96c3b6",
   "metadata": {},
   "source": [
    "**Observation:**\n",
    "- House Ads is the most marketing effective channel for all age groups."
   ]
  },
  {
   "cell_type": "markdown",
   "id": "b3eafb23",
   "metadata": {},
   "source": [
    "***\n",
    "### **8. Retention rate by marketing channel**\n",
    "To find which channel had the best retention rate from the campaign. It is important to identify how each marketing channel is performing because this will affect company strategy going forward. If one channel is outperforming others, it might signal the channel merits further investment."
   ]
  },
  {
   "cell_type": "code",
   "execution_count": null,
   "id": "8d5090d1",
   "metadata": {},
   "outputs": [],
   "source": [
    "retention_total = marketing.groupby(['date_subscribed','subscribing_channel'])['user_id'].nunique()\n",
    "retention_subs = marketing[marketing['is_retained']==True].groupby(['date_subscribed', 'subscribing_channel'])['user_id'].nunique()\n",
    "retention_rate = round(retention_subs/retention_total*100,2)\n",
    "retention_rate_df = pd.DataFrame(retention_rate.unstack(level=1)).fillna(0)\n",
    "\n",
    "fig, axes = plt.subplots(len(retention_rate_df.columns), 1, figsize=(8, 8), sharex=True)\n",
    "for i, channel in enumerate(retention_rate_df.columns):\n",
    "    retention_rate_df[channel].plot(ax=axes[i])\n",
    "    axes[i].set_xlabel('Date subscribed')\n",
    "    axes[i].set_ylabel(f'{channel}')  \n",
    "    axes[i].set_ylim([0, 100])\n",
    "    axes[i].grid(True, axis='y', linestyle='--', alpha=0.7)\n",
    "axes[0].set_title(f'Daily retention rate (%) for each marketing channel')\n",
    "plt.tight_layout()\n",
    "plt.show()"
   ]
  },
  {
   "cell_type": "markdown",
   "id": "593efdb7",
   "metadata": {},
   "source": [
    "***\n",
    "### **9. Conversion rate plots for each age group** \n",
    "Calculate and visualize the conversion rate for each age group over time. "
   ]
  },
  {
   "cell_type": "code",
   "execution_count": null,
   "id": "44d16265",
   "metadata": {},
   "outputs": [],
   "source": [
    "age_group_conv = conversion_rate(marketing, ['date_served', 'age_group'])\n",
    "age_group_df = pd.DataFrame(age_group_conv.unstack(level=1))\n",
    "\n",
    "fig, axes = plt.subplots(len(age_group_df.columns), 1, figsize=(8, 8), sharex=True)\n",
    "\n",
    "for i, age_group in enumerate(age_group_df.columns):\n",
    "    age_group_df[age_group].plot(ax=axes[i])\n",
    "    axes[i].set_ylabel(f'{age_group}')\n",
    "    axes[i].set_xlabel('Date served')\n",
    "    axes[i].grid(True, axis='y', linestyle='--', alpha=0.7)\n",
    "    axes[i].set_ylim([0, 100])\n",
    "axes[0].set_title('Conversion Rate(%) by Age Group')\n",
    "plt.tight_layout()\n",
    "plt.show()"
   ]
  },
  {
   "cell_type": "markdown",
   "id": "3cdbbc73",
   "metadata": {},
   "source": [
    "***\n",
    "### **10. Conversion rate for each marketing channel by date served**"
   ]
  },
  {
   "cell_type": "code",
   "execution_count": null,
   "id": "50bf2852",
   "metadata": {},
   "outputs": [],
   "source": [
    "daily_conv_channel = conversion_rate(marketing,['date_served','marketing_channel'])\n",
    "daily_conv_channel = pd.DataFrame(daily_conv_channel.unstack(level = 1))\n",
    "\n",
    "fig, axes = plt.subplots(len(daily_conv_channel.columns), 1, sharex=True, figsize=(8, 8))\n",
    "for i, channel in enumerate(daily_conv_channel.columns):\n",
    "    daily_conv_channel[channel].plot(ax=axes[i])\n",
    "    axes[i].set_ylabel(f'{channel}')\n",
    "    axes[i]\n",
    "    axes[i].grid(True, axis='y', linestyle='--', alpha=0.7)\n",
    "    axes[i].set_ylim([0, 100])\n",
    "axes[0].set_title('Conversion Rate(%) by Marketing Channel')\n",
    "axes[-1].set_xlabel('Date Served')\n",
    "plt.tight_layout()\n",
    "plt.show()"
   ]
  },
  {
   "cell_type": "markdown",
   "id": "ac898531",
   "metadata": {},
   "source": [
    "**Observation:**\n",
    "-  Sudden decrease in conversion rate for House Ads on January 11"
   ]
  },
  {
   "cell_type": "markdown",
   "id": "d40376f6",
   "metadata": {},
   "source": [
    "***\n",
    "### **11. Influence of day of week on conversion rate for house-ads**\n",
    "To check whether users are more likely to convert on weekends compared with weekdays and determine if that could be the cause for the changing house ads conversion rate."
   ]
  },
  {
   "cell_type": "code",
   "execution_count": null,
   "id": "448b5cbf",
   "metadata": {},
   "outputs": [],
   "source": [
    "marketing['DoW_served'] =marketing['date_served'].dt.dayofweek\n",
    "DoW_conversion = conversion_rate(marketing, ['DoW_served','marketing_channel'] )\n",
    "DoW_df = pd.DataFrame(DoW_conversion.unstack(level=1))\n",
    "\n",
    "fig, axes = plt.subplots(len(DoW_df.columns), 1, sharex=True, figsize=(8, 8))\n",
    "for i, channel in enumerate(DoW_df.columns):\n",
    "    DoW_df[channel].plot(ax=axes[i])\n",
    "    axes[i].set_ylabel(f'{channel}')\n",
    "    axes[i]\n",
    "    axes[i].grid(True, axis='y', linestyle='--', alpha=0.7)\n",
    "    axes[i].set_ylim([0, 100])\n",
    "axes[0].set_title('Conversion Rate(%) by Day of Week')\n",
    "axes[-1].set_xlabel('Day Served')\n",
    "axes[-1].set_xticks(range(7))\n",
    "axes[-1].set_xticklabels(['Mon', 'Tue', 'Wed', 'Thu', 'Fri', 'Sat', 'Sun'])\n",
    "plt.tight_layout()\n",
    "plt.show()"
   ]
  },
  {
   "cell_type": "markdown",
   "id": "64489f0f",
   "metadata": {},
   "source": [
    "**Observations**: \n",
    "- Email is particularly high and may be reflective of a tracking error, but house ads appear stable across the week with a slight peak on Tuesday.\n",
    "- It is ruled out that day of week has no influence on house-ads conversion rate."
   ]
  },
  {
   "cell_type": "markdown",
   "id": "0d5d8f62",
   "metadata": {},
   "source": [
    "***\n",
    "### **12. House ads conversion by language**\n",
    "To check if conversion rate for House-Ads is affected by language preferences. "
   ]
  },
  {
   "cell_type": "code",
   "execution_count": null,
   "id": "de1570b1",
   "metadata": {},
   "outputs": [],
   "source": [
    "house_ads = marketing[marketing['marketing_channel']=='House Ads']\n",
    "conv_lang = conversion_rate(house_ads,['date_served','language_displayed'])\n",
    "conv_lang_df = pd.DataFrame(conv_lang.unstack(level=1)).fillna(0)\n",
    "\n",
    "fig, axes = plt.subplots(len(conv_lang_df.columns), 1, sharex=True, figsize=(8, 8))\n",
    "for i, lang in enumerate(conv_lang_df.columns):\n",
    "    conv_lang_df[lang].plot(ax=axes[i])\n",
    "    axes[i].set_ylabel(f'{lang}')\n",
    "    axes[i]\n",
    "    axes[i].grid(True, axis='y', linestyle='--', alpha=0.7)\n",
    "    axes[i].set_ylim([0, 100])\n",
    "axes[0].set_title('Daily Conversion Rate(%) for each language')\n",
    "axes[-1].set_xlabel('Date Served')\n",
    "plt.tight_layout()\n",
    "plt.show()"
   ]
  },
  {
   "cell_type": "markdown",
   "id": "b534eaf7",
   "metadata": {},
   "source": [
    "**Observation:** \n",
    "- English conversion rate drops around the 11th, and there do not appear to be ads served in other languages for a two week period."
   ]
  },
  {
   "cell_type": "markdown",
   "id": "981f1577",
   "metadata": {},
   "source": [
    "***\n",
    "### **13. Deeper analysis of language discrepancy**\n",
    "Check whether users see ads in the correct language - calculate what percentage of users were being served ads in the right language and plot the results."
   ]
  },
  {
   "cell_type": "code",
   "execution_count": null,
   "id": "1c252163",
   "metadata": {},
   "outputs": [],
   "source": [
    "pd.set_option('mode.chained_assignment', None)\n",
    "house_ads['is_correct_lang'] = np.where(house_ads['language_displayed'] == house_ads['language_preferred'], 'Yes', 'No')\n",
    "language_check = house_ads.groupby(['date_served','is_correct_lang'])['is_correct_lang'].count()\n",
    "language_check_df = pd.DataFrame(language_check.unstack(level=1)).fillna(0)\n",
    "language_check_df['pct'] = round((language_check_df['Yes'] / language_check_df.sum(axis=1))*100,2)\n",
    "plt.plot(language_check_df.index, language_check_df['pct'])\n",
    "plt.xlabel('Date served')\n",
    "plt.xticks(rotation=45)\n",
    "plt.ylabel('Percentage(%)')\n",
    "plt.title(\"Percentage of users who got ads in the right language\")\n",
    "plt.show()"
   ]
  },
  {
   "cell_type": "markdown",
   "id": "d74f5179",
   "metadata": {},
   "source": [
    "**Observation**:\n",
    "- House ads have been underperforming due to serving all ads in English rather than each user's preferred language."
   ]
  },
  {
   "cell_type": "markdown",
   "id": "56d6c403",
   "metadata": {},
   "source": [
    "***\n",
    "### **14. Conversion indexes for language and analyze bug impact**\n",
    "- Language is the issue with House Ads conversion. To analyze how many subscribers were lost as a result of this bug on Jan 11.\n",
    "- Index non-English language conversion rates against English conversion rates in the time period before the language bug arose."
   ]
  },
  {
   "cell_type": "code",
   "execution_count": null,
   "id": "05f1837a",
   "metadata": {},
   "outputs": [],
   "source": [
    "house_ads_bug = house_ads[house_ads['date_served'] < '2018-01-11']\n",
    "lang_conv = conversion_rate(house_ads_bug, ['language_displayed'])\n",
    "spanish_index = lang_conv['Spanish']/lang_conv['English']\n",
    "arabic_index = lang_conv['Arabic']/lang_conv['English']\n",
    "german_index = lang_conv['German']/lang_conv['English']\n",
    "print(\"Spanish index:\", spanish_index)\n",
    "print(\"Arabic index:\", arabic_index)\n",
    "print(\"German index:\", german_index)"
   ]
  },
  {
   "cell_type": "markdown",
   "id": "8883ce24",
   "metadata": {},
   "source": [
    "To understand the true impact of the bug, it is crucial to determine how many subscribers we would have expected had there been no language error. This is crucial to understanding the scale of the problem and how important it is to prevent this kind of error in the future."
   ]
  },
  {
   "cell_type": "code",
   "execution_count": null,
   "id": "f5f1edef",
   "metadata": {},
   "outputs": [],
   "source": [
    "converted = house_ads.groupby(['date_served','language_preferred']).agg({'user_id':'nunique', 'converted':'sum'})\n",
    "converted = pd.DataFrame(converted.unstack(level=1))\n",
    "\n",
    "converted['english_conv_rate'] = converted.loc['2018-01-11':'2018-01-31'][('converted','English')]/converted.loc['2018-01-11':'2018-01-31'][('user_id','English')]\n",
    "converted['expected_spanish_rate'] = converted['english_conv_rate'] * spanish_index\n",
    "converted['expected_arabic_rate'] = converted['english_conv_rate'] * arabic_index\n",
    "converted['expected_german_rate'] = converted['english_conv_rate'] * german_index\n",
    "\n",
    "converted['expected_spanish_conv'] = converted['expected_spanish_rate']* converted[('user_id','Spanish')]\n",
    "converted['expected_arabic_conv'] = converted['expected_arabic_rate']* converted[('user_id','Arabic')]\n",
    "converted['expected_german_conv'] = converted['expected_german_rate']* converted[('user_id','German')]\n",
    "\n",
    "converted = converted.loc['2018-01-11':'2018-01-31']\n",
    "\n",
    "expected_subs = converted['expected_spanish_conv'].sum() + converted['expected_arabic_conv'].sum() + converted['expected_german_conv'].sum()\n",
    "\n",
    "actual_subs = converted[('converted','Spanish')].sum() + converted[('converted','Arabic')].sum() + converted[('converted','German')].sum()\n",
    "\n",
    "lost_subs = expected_subs - actual_subs\n",
    "print(\"Number of subscribers lost = \", round(lost_subs))"
   ]
  },
  {
   "cell_type": "markdown",
   "id": "4cdef8b9",
   "metadata": {},
   "source": [
    "***\n",
    "### **15. A/B Test Allocation**\n",
    "- Email campaign was run as A/B test.\n",
    "- Half emails - generic and half emails - personalized messaging\n",
    "- Check to ensure users were allocated equally to the test and control groups."
   ]
  },
  {
   "cell_type": "code",
   "execution_count": null,
   "id": "ee91f5ef",
   "metadata": {},
   "outputs": [],
   "source": [
    "email = marketing[marketing['marketing_channel']=='Email']\n",
    "alloc = email.groupby('variant')['user_id'].nunique()\n",
    "alloc.plot(kind='bar')\n",
    "plt.title('Personalization test allocation')\n",
    "plt.ylabel('# participants')\n",
    "plt.show()"
   ]
  },
  {
   "cell_type": "markdown",
   "id": "9b6a697e",
   "metadata": {},
   "source": [
    "***\n",
    "### **16. Email conversion rates**\n",
    "- Evaluate whether or not conversion was higher in the personalization treatment compared with the control.\n"
   ]
  },
  {
   "cell_type": "code",
   "execution_count": null,
   "id": "b9d6555a",
   "metadata": {},
   "outputs": [],
   "source": [
    "subscribers = email.groupby(['user_id','variant'])['converted'].max()\n",
    "subscribers_df = pd.DataFrame(subscribers.unstack(level=1)) \n",
    "\n",
    "control = subscribers_df['control'].dropna()\n",
    "\n",
    "personalization = subscribers_df['personalization'].dropna()\n",
    "\n",
    "print('Control conversion rate:', np.mean(control))\n",
    "print('Personalization conversion rate:', np.mean(personalization))"
   ]
  },
  {
   "cell_type": "markdown",
   "id": "5b9d14bc",
   "metadata": {},
   "source": [
    "**Observation**: \n",
    "- Personalization converted users at a higher rate than the control."
   ]
  },
  {
   "cell_type": "markdown",
   "id": "0cecb115",
   "metadata": {},
   "source": [
    "***\n",
    "### **17. Lift function**\n",
    "- Lift can be calculated by calculating the difference between the treatment effect (or the mean) of the treatment compared to the treatment effect of the control divided by the treatment effect of the control."
   ]
  },
  {
   "cell_type": "code",
   "execution_count": null,
   "id": "8520c156",
   "metadata": {},
   "outputs": [],
   "source": [
    "def lift(a,b):\n",
    "    a_mean = np.mean(a)\n",
    "    b_mean = np.mean(b)\n",
    "    lift = (b_mean-a_mean)/a_mean\n",
    "  \n",
    "    return str(round(lift*100, 2)) + '%'\n",
    "  \n",
    "print(\"Lift = \" ,lift(control, personalization))\n",
    "\n",
    "print(ttest_ind(control.astype(int), personalization.astype(int)))"
   ]
  },
  {
   "cell_type": "markdown",
   "id": "29efdcbf",
   "metadata": {},
   "source": [
    "**Observation**:\n",
    "- Large lift\n",
    "- Statistically significant with p=0.006"
   ]
  },
  {
   "cell_type": "markdown",
   "id": "10182682",
   "metadata": {},
   "source": [
    "***\n",
    "### **17. A/B test segmentation function**\n"
   ]
  },
  {
   "cell_type": "code",
   "execution_count": null,
   "id": "5bcfaa29",
   "metadata": {},
   "outputs": [],
   "source": [
    "def ab_segmentation(segment):\n",
    "  # Build a for loop for each subsegment in marketing\n",
    "  for subsegment in np.unique(marketing[segment].values):\n",
    "      print(subsegment)\n",
    "      \n",
    "      # Limit marketing to email and subsegment\n",
    "      email = marketing[(marketing['marketing_channel'] == 'Email') & (marketing[segment] == subsegment)]\n",
    "\n",
    "      subscribers = email.groupby(['user_id', 'variant'])['converted'].max()\n",
    "      subscribers = pd.DataFrame(subscribers.unstack(level=1)) \n",
    "      control = subscribers['control'].dropna()\n",
    "      personalization = subscribers['personalization'].dropna()\n",
    "\n",
    "      print('lift:', lift(control,personalization)) \n",
    "      print('t-statistic:', ttest_ind(control.astype(int), personalization.astype(int)), '\\n\\n')\n",
    "\n",
    "ab_segmentation('language_displayed')\n",
    "\n",
    "ab_segmentation('age_group')"
   ]
  }
 ],
 "metadata": {
  "editor": "DataLab",
  "kernelspec": {
   "display_name": "Python 3",
   "language": "python",
   "name": "python3"
  },
  "language_info": {
   "codemirror_mode": {
    "name": "ipython",
    "version": 3
   },
   "file_extension": ".py",
   "mimetype": "text/x-python",
   "name": "python",
   "nbconvert_exporter": "python",
   "pygments_lexer": "ipython3",
   "version": "3.12.4"
  }
 },
 "nbformat": 4,
 "nbformat_minor": 5
}
